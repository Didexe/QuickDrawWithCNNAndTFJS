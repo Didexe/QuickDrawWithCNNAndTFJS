{
 "cells": [
  {
   "cell_type": "markdown",
   "metadata": {
    "colab_type": "text",
    "id": "2HTQuvv9Lcbw"
   },
   "source": [
    "# Quick draw recognition with CNN\n",
    "In this project I am going to use the Quick draw dataset. Quick draw is one of the Google's A.I. experiments - https://quickdraw.withgoogle.com\n",
    "I will first train the model. Then convert it to a tensorflow.js model and then I will create a web application with a canvas drawing space that will recognise the drawing using the generated model.\n",
    "\n",
    "Here is the application: https://didexe.github.io/quickDrawWithMobileNetAndTFJS/\n",
    "\n",
    "and the Git repo: https://github.com/Didexe/quickDrawWithMobileNetAndTFJS\n",
    "\n",
    "link to this notebook on Google CoLab:\n",
    "https://colab.research.google.com/drive/163KILDrDCKGTVhiOU1nwW8MKpQjGfh0i\n",
    "\n",
    "I first created the web app and tested it using trained models from other people. Then started work on training my models. The idea was to train two different models - one custom CNN and one MobileNet and compare them but as I was using Kaggle and Google Colab the kernels constantly got disconnected and I could not complete the task. \n",
    "\n",
    "I initially tried to work with the original dataset containing the strokes from the drawings and using CV2 image generator to convert them to images. This was the better approach as the sequence of the strokes could be color coded in the images(first strokes are black and the following get lighter) which could increase the accuracy of the model. But even with the smallest possible image dimensions 64px x 64px x 1channel it could not complete on an image set of around 1 000 000 samples(3000 samples from each of 340 classes)\n",
    "\n",
    "Here is the link to the initial notebook on Kaggle:\n",
    "https://www.kaggle.com/didexe/quick-draw-recognition-with-cnn\n",
    "\n",
    "Then I downloaded the images in an .npy format in 28px x 28px and using the custom CNN model with the same number of samples I managed to get some results. As running more than 15 epochs in a row was impossible I took another approach. Running 10 epochs and saving the model and the log. Then using the saved model to train for another 10 etc."
   ]
  },
  {
   "cell_type": "markdown",
   "metadata": {
    "colab_type": "text",
    "id": "CJuXuekljagV"
   },
   "source": [
    "# IMPORTS"
   ]
  },
  {
   "cell_type": "code",
   "execution_count": 0,
   "metadata": {
    "colab": {},
    "colab_type": "code",
    "id": "UtR_TLZGvhQF"
   },
   "outputs": [],
   "source": [
    "import os\n",
    "import urllib.request\n",
    "import glob\n",
    "import numpy as np\n",
    "import pandas as pd\n",
    "from tensorflow.keras import layers\n",
    "from tensorflow import keras \n",
    "import tensorflow as tf\n",
    "from tensorflow.keras.metrics import categorical_accuracy, top_k_categorical_accuracy, categorical_crossentropy, Accuracy\n",
    "from tensorflow.keras.layers import Conv2D, MaxPooling2D\n",
    "from tensorflow.keras.layers import Dense, Dropout, Flatten, Activation\n",
    "from tensorflow.keras.models import Sequential\n",
    "from tensorflow.keras.callbacks import EarlyStopping, ReduceLROnPlateau, ModelCheckpoint\n",
    "from tensorflow.keras.optimizers import Adam\n",
    "import matplotlib.pyplot as plt\n",
    "import random\n",
    "from keras.models import load_model"
   ]
  },
  {
   "cell_type": "markdown",
   "metadata": {
    "colab_type": "text",
    "id": "8lBKO1YejlyE"
   },
   "source": [
    "# LOAD THE DATA"
   ]
  },
  {
   "cell_type": "code",
   "execution_count": 0,
   "metadata": {
    "colab": {},
    "colab_type": "code",
    "id": "JYkTskII-uJo"
   },
   "outputs": [],
   "source": [
    "f = open(\"class_names.txt\",\"r\")\n",
    "classes = f.readlines()\n",
    "f.close()"
   ]
  },
  {
   "cell_type": "code",
   "execution_count": 0,
   "metadata": {
    "colab": {},
    "colab_type": "code",
    "id": "uLvEcWukxMbE"
   },
   "outputs": [],
   "source": [
    "classes = [c.replace('\\n','').replace(' ','_') for c in classes]"
   ]
  },
  {
   "cell_type": "code",
   "execution_count": 4,
   "metadata": {
    "colab": {
     "base_uri": "https://localhost:8080/",
     "height": 54
    },
    "colab_type": "code",
    "id": "Qj4Fk8YWxDtw",
    "outputId": "d8673bad-d964-44ad-e1b6-9b4c09bb2013"
   },
   "outputs": [
    {
     "name": "stdout",
     "output_type": "stream",
     "text": [
      "['airplane', 'alarm_clock', 'ambulance', 'angel', 'animal_migration', 'ant', 'anvil', 'apple', 'arm', 'asparagus', 'axe', 'backpack', 'banana', 'bandage', 'barn', 'baseball', 'baseball_bat', 'basket', 'basketball', 'bat', 'bathtub', 'beach', 'bear', 'beard', 'bed', 'bee', 'belt', 'bench', 'bicycle', 'binoculars', 'bird', 'birthday_cake', 'blackberry', 'blueberry', 'book', 'boomerang', 'bottlecap', 'bowtie', 'bracelet', 'brain', 'bread', 'bridge', 'broccoli', 'broom', 'bucket', 'bulldozer', 'bus', 'bush', 'butterfly', 'cactus', 'cake', 'calculator', 'calendar', 'camel', 'camera', 'camouflage', 'campfire', 'candle', 'cannon', 'canoe', 'car', 'carrot', 'castle', 'cat', 'ceiling_fan', 'cell_phone', 'cello', 'chair', 'chandelier', 'church', 'circle', 'clarinet', 'clock', 'cloud', 'coffee_cup', 'compass', 'computer', 'cookie', 'cooler', 'couch', 'cow', 'crab', 'crayon', 'crocodile', 'crown', 'cruise_ship', 'cup', 'diamond', 'dishwasher', 'diving_board', 'dog', 'dolphin', 'donut', 'door', 'dragon', 'dresser', 'drill', 'drums', 'duck', 'dumbbell', 'ear', 'elbow', 'elephant', 'envelope', 'eraser', 'eye', 'eyeglasses', 'face', 'fan', 'feather', 'fence', 'finger', 'fire_hydrant', 'fireplace', 'firetruck', 'fish', 'flamingo', 'flashlight', 'flip_flops', 'floor_lamp', 'flower', 'flying_saucer', 'foot', 'fork', 'frog', 'frying_pan', 'garden', 'garden_hose', 'giraffe', 'goatee', 'golf_club', 'grapes', 'grass', 'guitar', 'hamburger', 'hammer', 'hand', 'harp', 'hat', 'headphones', 'hedgehog', 'helicopter', 'helmet', 'hexagon', 'hockey_puck', 'hockey_stick', 'horse', 'hospital', 'hot_air_balloon', 'hot_dog', 'hot_tub', 'hourglass', 'house', 'house_plant', 'hurricane', 'ice_cream', 'jacket', 'jail', 'kangaroo', 'key', 'keyboard', 'knee', 'ladder', 'lantern', 'laptop', 'leaf', 'leg', 'light_bulb', 'lighthouse', 'lightning', 'line', 'lion', 'lipstick', 'lobster', 'lollipop', 'mailbox', 'map', 'marker', 'matches', 'megaphone', 'mermaid', 'microphone', 'microwave', 'monkey', 'moon', 'mosquito', 'motorbike', 'mountain', 'mouse', 'moustache', 'mouth', 'mug', 'mushroom', 'nail', 'necklace', 'nose', 'ocean', 'octagon', 'octopus', 'onion', 'oven', 'owl', 'paint_can', 'paintbrush', 'palm_tree', 'panda', 'pants', 'paper_clip', 'parachute', 'parrot', 'passport', 'peanut', 'pear', 'peas', 'pencil', 'penguin', 'piano', 'pickup_truck', 'picture_frame', 'pig', 'pillow', 'pineapple', 'pizza', 'pliers', 'police_car', 'pond', 'pool', 'popsicle', 'postcard', 'potato', 'power_outlet', 'purse', 'rabbit', 'raccoon', 'radio', 'rain', 'rainbow', 'rake', 'remote_control', 'rhinoceros', 'river', 'roller_coaster', 'rollerskates', 'sailboat', 'sandwich', 'saw', 'saxophone', 'school_bus', 'scissors', 'scorpion', 'screwdriver', 'sea_turtle', 'see_saw', 'shark', 'sheep', 'shoe', 'shorts', 'shovel', 'sink', 'skateboard', 'skull', 'skyscraper', 'sleeping_bag', 'smiley_face', 'snail', 'snake', 'snorkel', 'snowflake', 'snowman', 'soccer_ball', 'sock', 'speedboat', 'spider', 'spoon', 'spreadsheet', 'square', 'squiggle', 'squirrel', 'stairs', 'star', 'steak', 'stereo', 'stethoscope', 'stitches', 'stop_sign', 'stove', 'strawberry', 'streetlight', 'string_bean', 'submarine', 'suitcase', 'sun', 'swan', 'sweater', 'swing_set', 'sword', 't-shirt', 'table', 'teapot', 'teddy-bear', 'telephone', 'television', 'tennis_racquet', 'tent', 'The_Eiffel_Tower', 'The_Great_Wall_of_China', 'The_Mona_Lisa', 'tiger', 'toaster', 'toe', 'toilet', 'tooth', 'toothbrush', 'toothpaste', 'tornado', 'tractor', 'traffic_light', 'train', 'tree', 'triangle', 'trombone', 'truck', 'trumpet', 'umbrella', 'underwear', 'van', 'vase', 'violin', 'washing_machine', 'watermelon', 'waterslide', 'whale', 'wheel', 'windmill', 'wine_bottle', 'wine_glass', 'wristwatch', 'yoga', 'zebra', 'zigzag']\n"
     ]
    }
   ],
   "source": [
    "print(classes)"
   ]
  },
  {
   "cell_type": "code",
   "execution_count": 0,
   "metadata": {
    "colab": {},
    "colab_type": "code",
    "id": "oJvApDpxxa7Z"
   },
   "outputs": [],
   "source": [
    "!mkdir data"
   ]
  },
  {
   "cell_type": "code",
   "execution_count": 0,
   "metadata": {
    "colab": {},
    "colab_type": "code",
    "id": "m7xnuyAOxdRm"
   },
   "outputs": [],
   "source": [
    "def download():\n",
    "  \n",
    "  base = 'https://storage.googleapis.com/quickdraw_dataset/full/numpy_bitmap/'\n",
    "  for c in classes:\n",
    "    cls_url = c.replace('_', '%20')\n",
    "    path = base+cls_url+'.npy'\n",
    "    print(path)\n",
    "    urllib.request.urlretrieve(path, 'data/'+c+'.npy')"
   ]
  },
  {
   "cell_type": "code",
   "execution_count": 0,
   "metadata": {
    "colab": {},
    "colab_type": "code",
    "id": "Ewe4NbnrxlVU"
   },
   "outputs": [],
   "source": [
    "download()"
   ]
  },
  {
   "cell_type": "markdown",
   "metadata": {
    "colab_type": "text",
    "id": "dzGkQ3LCjrcv"
   },
   "source": [
    "# VARIABLES AND FUNCTIONS"
   ]
  },
  {
   "cell_type": "code",
   "execution_count": 0,
   "metadata": {
    "colab": {},
    "colab_type": "code",
    "id": "txQwpYVGQWQc"
   },
   "outputs": [],
   "source": [
    "IMAGE_SIZE = 28\n",
    "ALL_FILES = all_files = glob.glob(os.path.join(root, '*.npy'))"
   ]
  },
  {
   "cell_type": "code",
   "execution_count": 0,
   "metadata": {
    "colab": {},
    "colab_type": "code",
    "id": "WGGv9BD8y4pr"
   },
   "outputs": [],
   "source": [
    "def load_data(root, vfold_ratio=0.2, max_items_per_class= 3000 ):\n",
    "\n",
    "    #initialize variables \n",
    "    x = np.empty([0, 784])\n",
    "    y = np.empty([0])\n",
    "    class_names = []\n",
    "\n",
    "    #load each data file \n",
    "    for idx, file in enumerate(all_files):\n",
    "        data = np.load(file)\n",
    "        data = data[0: max_items_per_class, :]\n",
    "        labels = np.full(data.shape[0], idx)\n",
    "\n",
    "        x = np.concatenate((x, data), axis=0)\n",
    "        y = np.append(y, labels)\n",
    "\n",
    "        class_name, ext = os.path.splitext(os.path.basename(file))\n",
    "        class_names.append(class_name)\n",
    "    \n",
    "    #randomize the dataset \n",
    "    permutation = np.random.permutation(y.shape[0])\n",
    "    x = x[permutation, :]\n",
    "    y = y[permutation]\n",
    "\n",
    "    #separate into training and testing \n",
    "    vfold_size = int(x.shape[0]/100*(vfold_ratio*100))\n",
    "\n",
    "    x_test = x[0:vfold_size, :]\n",
    "    y_test = y[0:vfold_size]\n",
    "\n",
    "    x_train = x[vfold_size:x.shape[0], :]\n",
    "    y_train = y[vfold_size:y.shape[0]]\n",
    "    return x_train, y_train, x_test, y_test, class_names"
   ]
  },
  {
   "cell_type": "code",
   "execution_count": 0,
   "metadata": {
    "colab": {},
    "colab_type": "code",
    "id": "_LWf3-rguXvJ"
   },
   "outputs": [],
   "source": [
    "def top_3_accuracy(y_true, y_pred):\n",
    "    return keras.metrics.top_k_categorical_accuracy(y_true, y_pred, k=3)"
   ]
  },
  {
   "cell_type": "code",
   "execution_count": 0,
   "metadata": {
    "colab": {},
    "colab_type": "code",
    "id": "J1edGQmN3TXg"
   },
   "outputs": [],
   "source": [
    "def plot_images(x):\n",
    "    n = 8\n",
    "    fig, axs = plt.subplots(nrows=n, ncols=n, sharex=True, sharey=True, figsize=(12, 12))\n",
    "    for i in range(n**2):\n",
    "        ax = axs[i // n, i % n]\n",
    "        (-x[i]+1)/2\n",
    "        ax.imshow(x[i].reshape(IMAGE_SIZE, IMAGE_SIZE), cmap=plt.cm.gray)\n",
    "        ax.axis('off')\n",
    "    plt.tight_layout()\n",
    "    fig.savefig('gs.png', dpi=300)\n",
    "    plt.show();"
   ]
  },
  {
   "cell_type": "markdown",
   "metadata": {
    "colab_type": "text",
    "id": "pxXMyCmtkDF0"
   },
   "source": [
    "# PREPARE TRAINING AND TESTING DATAFRAMES"
   ]
  },
  {
   "cell_type": "code",
   "execution_count": 0,
   "metadata": {
    "colab": {},
    "colab_type": "code",
    "id": "JsAus_Hs12Ot"
   },
   "outputs": [],
   "source": [
    "x_train, y_train, x_test, y_test, class_names = load_data('data')\n",
    "num_classes = len(class_names)\n",
    "# 340"
   ]
  },
  {
   "cell_type": "code",
   "execution_count": 16,
   "metadata": {
    "colab": {
     "base_uri": "https://localhost:8080/",
     "height": 873
    },
    "colab_type": "code",
    "id": "Xt9Rj7TX3YMw",
    "outputId": "2a80a259-e5b0-45ce-9a9f-8ac2d782ca2c"
   },
   "outputs": [
    {
     "data": {
      "image/png": "[encoded data removed]",
      "text/plain": [
       "<Figure size 864x864 with 64 Axes>"
      ]
     },
     "metadata": {
      "tags": []
     },
     "output_type": "display_data"
    }
   ],
   "source": [
    "# print some random images from the training set\n",
    "plot_images(x_train)"
   ]
  },
  {
   "cell_type": "code",
   "execution_count": 0,
   "metadata": {
    "colab": {},
    "colab_type": "code",
    "id": "93AZIBZHFms9"
   },
   "outputs": [],
   "source": [
    "# reshape\n",
    "x_train = x_train.reshape(x_train.shape[0], IMAGE_SIZE, IMAGE_SIZE, 1).astype('float32')\n",
    "x_test = x_test.reshape(x_test.shape[0], IMAGE_SIZE, IMAGE_SIZE, 1).astype('float32')\n",
    "\n",
    "# normalize\n",
    "x_train /= 255.0\n",
    "x_test /= 255.0\n",
    "\n",
    "# Convert class vectors to class matrices\n",
    "y_train = keras.utils.to_categorical(y_train, num_classes)\n",
    "y_test = keras.utils.to_categorical(y_test, num_classes)"
   ]
  },
  {
   "cell_type": "code",
   "execution_count": 18,
   "metadata": {
    "colab": {
     "base_uri": "https://localhost:8080/",
     "height": 85
    },
    "colab_type": "code",
    "id": "6n_S01hWFt6N",
    "outputId": "ededbc35-344d-4ec7-800b-9e081e61b987"
   },
   "outputs": [
    {
     "name": "stdout",
     "output_type": "stream",
     "text": [
      "(816000, 28, 28, 1)\n",
      "(816000, 340)\n",
      "(204000, 28, 28, 1)\n",
      "(204000, 340)\n"
     ]
    }
   ],
   "source": [
    "print(x_train.shape)\n",
    "print(y_train.shape)\n",
    "print(x_test.shape)\n",
    "print(y_test.shape)"
   ]
  },
  {
   "cell_type": "markdown",
   "metadata": {
    "colab_type": "text",
    "id": "Bo6Q5AAZYbWR"
   },
   "source": [
    "# THE MODEL\n",
    "\n",
    "A custom CNN with 9 layers. 3 convolutional and 3 maxpooling."
   ]
  },
  {
   "cell_type": "code",
   "execution_count": 19,
   "metadata": {
    "colab": {
     "base_uri": "https://localhost:8080/",
     "height": 547
    },
    "colab_type": "code",
    "id": "IqP8ciHLF6Le",
    "outputId": "6d5a4dcb-4408-4d6e-c6ed-263d58dea72c"
   },
   "outputs": [
    {
     "name": "stdout",
     "output_type": "stream",
     "text": [
      "WARNING:tensorflow:From /usr/local/lib/python3.6/dist-packages/tensorflow_core/python/ops/resource_variable_ops.py:1630: calling BaseResourceVariable.__init__ (from tensorflow.python.ops.resource_variable_ops) with constraint is deprecated and will be removed in a future version.\n",
      "Instructions for updating:\n",
      "If using Keras pass *_constraint arguments to layers.\n",
      "Model: \"sequential\"\n",
      "_________________________________________________________________\n",
      "Layer (type)                 Output Shape              Param #   \n",
      "=================================================================\n",
      "conv2d (Conv2D)              (None, 28, 28, 16)        160       \n",
      "_________________________________________________________________\n",
      "max_pooling2d (MaxPooling2D) (None, 14, 14, 16)        0         \n",
      "_________________________________________________________________\n",
      "conv2d_1 (Conv2D)            (None, 14, 14, 32)        4640      \n",
      "_________________________________________________________________\n",
      "max_pooling2d_1 (MaxPooling2 (None, 7, 7, 32)          0         \n",
      "_________________________________________________________________\n",
      "conv2d_2 (Conv2D)            (None, 7, 7, 64)          18496     \n",
      "_________________________________________________________________\n",
      "max_pooling2d_2 (MaxPooling2 (None, 3, 3, 64)          0         \n",
      "_________________________________________________________________\n",
      "flatten (Flatten)            (None, 576)               0         \n",
      "_________________________________________________________________\n",
      "dense (Dense)                (None, 128)               73856     \n",
      "_________________________________________________________________\n",
      "dense_1 (Dense)              (None, 340)               43860     \n",
      "=================================================================\n",
      "Total params: 141,012\n",
      "Trainable params: 141,012\n",
      "Non-trainable params: 0\n",
      "_________________________________________________________________\n",
      "None\n"
     ]
    }
   ],
   "source": [
    "model = keras.Sequential()\n",
    "model.add(layers.Convolution2D(16, (3, 3),\n",
    "                        padding='same',\n",
    "                        input_shape=x_train.shape[1:], activation='relu'))\n",
    "model.add(layers.MaxPooling2D(pool_size=(2, 2)))\n",
    "model.add(layers.Convolution2D(32, (3, 3), padding='same', activation= 'relu'))\n",
    "model.add(layers.MaxPooling2D(pool_size=(2, 2)))\n",
    "model.add(layers.Convolution2D(64, (3, 3), padding='same', activation= 'relu'))\n",
    "model.add(layers.MaxPooling2D(pool_size =(2,2)))\n",
    "model.add(layers.Flatten())\n",
    "model.add(layers.Dense(128, activation='relu'))\n",
    "model.add(layers.Dense(340, activation='softmax')) \n",
    "# Train model\n",
    "\n",
    "model.compile(loss='categorical_crossentropy',\n",
    "              optimizer=Adam(learning_rate=0.002),\n",
    "             metrics=['accuracy', categorical_accuracy, categorical_crossentropy, top_3_accuracy])\n",
    "print(model.summary())"
   ]
  },
  {
   "cell_type": "markdown",
   "metadata": {
    "colab_type": "text",
    "id": "zsXuM4R0aupx"
   },
   "source": [
    "# MODEL TRAINING\n",
    "\n",
    "I experimented with different parameters during the 10 epoch runs to try to find a way for quicker conversion but I actually got the oposite. In the beginning it was going well but after the 50th epoch the loss and accuracy started going in the opposite directions wich I think was due to the removing of the ReduceLROnPlateau callback."
   ]
  },
  {
   "cell_type": "code",
   "execution_count": 0,
   "metadata": {
    "colab": {
     "base_uri": "https://localhost:8080/",
     "height": 598
    },
    "colab_type": "code",
    "id": "xFCByoFqPDeL",
    "outputId": "e0b4c42a-cb31-492b-a43b-a27c28805dd8"
   },
   "outputs": [
    {
     "name": "stdout",
     "output_type": "stream",
     "text": [
      "Train on 734400 samples, validate on 81600 samples\n",
      "Epoch 1/50\n",
      "734400/734400 [==============================] - 312s 424us/sample - loss: 2.6296 - acc: 0.4061 - categorical_accuracy: 0.4061 - categorical_crossentropy: 2.6296 - top_3_accuracy: 0.6055 - val_loss: 2.2812 - val_acc: 0.4700 - val_categorical_accuracy: 0.4700 - val_categorical_crossentropy: 2.2812 - val_top_3_accuracy: 0.6758\n",
      "Epoch 2/50\n",
      "734400/734400 [==============================] - 284s 387us/sample - loss: 2.1942 - acc: 0.4892 - categorical_accuracy: 0.4892 - categorical_crossentropy: 2.1941 - top_3_accuracy: 0.6924 - val_loss: 2.1398 - val_acc: 0.5014 - val_categorical_accuracy: 0.5014 - val_categorical_crossentropy: 2.1398 - val_top_3_accuracy: 0.7041\n",
      "Epoch 3/50\n",
      "734400/734400 [==============================] - 308s 420us/sample - loss: 2.1248 - acc: 0.5038 - categorical_accuracy: 0.5038 - categorical_crossentropy: 2.1248 - top_3_accuracy: 0.7057 - val_loss: 2.1168 - val_acc: 0.5095 - val_categorical_accuracy: 0.5095 - val_categorical_crossentropy: 2.1169 - val_top_3_accuracy: 0.7098\n",
      "Epoch 4/50\n",
      "734400/734400 [==============================] - 274s 373us/sample - loss: 2.0912 - acc: 0.5100 - categorical_accuracy: 0.5100 - categorical_crossentropy: 2.0912 - top_3_accuracy: 0.7116 - val_loss: 2.0751 - val_acc: 0.5174 - val_categorical_accuracy: 0.5174 - val_categorical_crossentropy: 2.0751 - val_top_3_accuracy: 0.7161\n",
      "Epoch 5/50\n",
      "734400/734400 [==============================] - 317s 432us/sample - loss: 2.0728 - acc: 0.5141 - categorical_accuracy: 0.5141 - categorical_crossentropy: 2.0728 - top_3_accuracy: 0.7143 - val_loss: 2.0696 - val_acc: 0.5162 - val_categorical_accuracy: 0.5162 - val_categorical_crossentropy: 2.0696 - val_top_3_accuracy: 0.7150\n",
      "Epoch 6/50\n",
      "734400/734400 [==============================] - 280s 381us/sample - loss: 2.0599 - acc: 0.5161 - categorical_accuracy: 0.5161 - categorical_crossentropy: 2.0599 - top_3_accuracy: 0.7169 - val_loss: 2.0607 - val_acc: 0.5190 - val_categorical_accuracy: 0.5190 - val_categorical_crossentropy: 2.0607 - val_top_3_accuracy: 0.7162\n",
      "Epoch 7/50\n",
      "734336/734400 [============================>.] - ETA: 0s - loss: 2.0501 - acc: 0.5187 - categorical_accuracy: 0.5187 - categorical_crossentropy: 2.0501 - top_3_accuracy: 0.7187\n",
      "Epoch 00007: ReduceLROnPlateau reducing learning rate to 0.001500000071246177.\n",
      "734400/734400 [==============================] - 310s 422us/sample - loss: 2.0501 - acc: 0.5187 - categorical_accuracy: 0.5187 - categorical_crossentropy: 2.0501 - top_3_accuracy: 0.7187 - val_loss: 2.0611 - val_acc: 0.5175 - val_categorical_accuracy: 0.5175 - val_categorical_crossentropy: 2.0611 - val_top_3_accuracy: 0.7165\n",
      "Epoch 8/50\n",
      "734400/734400 [==============================] - 273s 372us/sample - loss: 1.9774 - acc: 0.5345 - categorical_accuracy: 0.5345 - categorical_crossentropy: 1.9774 - top_3_accuracy: 0.7324 - val_loss: 2.0003 - val_acc: 0.5332 - val_categorical_accuracy: 0.5332 - val_categorical_crossentropy: 2.0003 - val_top_3_accuracy: 0.7306\n",
      "Epoch 9/50\n",
      "734400/734400 [==============================] - 299s 408us/sample - loss: 1.9598 - acc: 0.5380 - categorical_accuracy: 0.5380 - categorical_crossentropy: 1.9598 - top_3_accuracy: 0.7355 - val_loss: 2.0174 - val_acc: 0.5293 - val_categorical_accuracy: 0.5293 - val_categorical_crossentropy: 2.0174 - val_top_3_accuracy: 0.7266\n",
      "Epoch 10/50\n",
      "734400/734400 [==============================] - 272s 370us/sample - loss: 1.9522 - acc: 0.5397 - categorical_accuracy: 0.5397 - categorical_crossentropy: 1.9522 - top_3_accuracy: 0.7369 - val_loss: 1.9991 - val_acc: 0.5339 - val_categorical_accuracy: 0.5339 - val_categorical_crossentropy: 1.9991 - val_top_3_accuracy: 0.7309\n",
      "Epoch 11/50\n",
      "734336/734400 [============================>.] - ETA: 0s - loss: 1.9482 - acc: 0.5405 - categorical_accuracy: 0.5405 - categorical_crossentropy: 1.9482 - top_3_accuracy: 0.7378\n",
      "Epoch 00011: ReduceLROnPlateau reducing learning rate to 0.001125000009778887.\n",
      "734400/734400 [==============================] - 302s 412us/sample - loss: 1.9483 - acc: 0.5405 - categorical_accuracy: 0.5405 - categorical_crossentropy: 1.9483 - top_3_accuracy: 0.7378 - val_loss: 2.0072 - val_acc: 0.5322 - val_categorical_accuracy: 0.5322 - val_categorical_crossentropy: 2.0072 - val_top_3_accuracy: 0.7282\n",
      "Epoch 12/50\n",
      "734400/734400 [==============================] - 263s 358us/sample - loss: 1.8938 - acc: 0.5534 - categorical_accuracy: 0.5534 - categorical_crossentropy: 1.8937 - top_3_accuracy: 0.7480 - val_loss: 1.9462 - val_acc: 0.5467 - val_categorical_accuracy: 0.5467 - val_categorical_crossentropy: 1.9462 - val_top_3_accuracy: 0.7407\n",
      "Epoch 13/50\n",
      "734400/734400 [==============================] - 291s 396us/sample - loss: 1.8826 - acc: 0.5555 - categorical_accuracy: 0.5555 - categorical_crossentropy: 1.8826 - top_3_accuracy: 0.7499 - val_loss: 1.9345 - val_acc: 0.5478 - val_categorical_accuracy: 0.5478 - val_categorical_crossentropy: 1.9345 - val_top_3_accuracy: 0.7421\n",
      "Epoch 14/50\n",
      " 30912/734400 [>.............................] - ETA: 4:03 - loss: 1.8565 - acc: 0.5584 - categorical_accuracy: 0.5584 - categorical_crossentropy: 1.8565 - top_3_accuracy: 0.7506"
     ]
    }
   ],
   "source": [
    "callbacks = [\n",
    "    ReduceLROnPlateau(monitor='val_top_3_accuracy', factor=0.75, patience=3, min_delta=0.001,\n",
    "                          mode='max', min_lr=1e-5, verbose=1),\n",
    "    ModelCheckpoint('model.h5', monitor='val_top_3_accuracy', mode='max', save_best_only=True),\n",
    "]\n",
    "\n",
    "history = model.fit(\n",
    "    x_train, y_train, epochs=50, verbose=1,\n",
    "    validation_split=0.1,\n",
    "    # validation_data=(x_test, y_test),\n",
    "    callbacks = callbacks\n",
    ")\n"
   ]
  },
  {
   "cell_type": "code",
   "execution_count": 0,
   "metadata": {
    "colab": {},
    "colab_type": "code",
    "id": "CKZ8TMXpCGTZ"
   },
   "outputs": [],
   "source": [
    "log = pd.DataFrame.from_dict(history.history)\n",
    "log.to_csv('train_log.csv', index=False)"
   ]
  },
  {
   "cell_type": "code",
   "execution_count": 0,
   "metadata": {
    "colab": {},
    "colab_type": "code",
    "id": "XTMzdXIHDx4h"
   },
   "outputs": [],
   "source": [
    "model.save('model.hdf5')"
   ]
  },
  {
   "cell_type": "code",
   "execution_count": 80,
   "metadata": {
    "colab": {
     "base_uri": "https://localhost:8080/",
     "height": 476
    },
    "colab_type": "code",
    "id": "pvHt5d7BD8vH",
    "outputId": "43cbd96a-d1ff-43a2-d08d-7a9638173f23"
   },
   "outputs": [
    {
     "name": "stdout",
     "output_type": "stream",
     "text": [
      "Model: \"sequential_4\"\n",
      "_________________________________________________________________\n",
      "Layer (type)                 Output Shape              Param #   \n",
      "=================================================================\n",
      "conv2d_12 (Conv2D)           (None, 28, 28, 16)        160       \n",
      "_________________________________________________________________\n",
      "max_pooling2d_12 (MaxPooling (None, 14, 14, 16)        0         \n",
      "_________________________________________________________________\n",
      "conv2d_13 (Conv2D)           (None, 14, 14, 32)        4640      \n",
      "_________________________________________________________________\n",
      "max_pooling2d_13 (MaxPooling (None, 7, 7, 32)          0         \n",
      "_________________________________________________________________\n",
      "conv2d_14 (Conv2D)           (None, 7, 7, 64)          18496     \n",
      "_________________________________________________________________\n",
      "max_pooling2d_14 (MaxPooling (None, 3, 3, 64)          0         \n",
      "_________________________________________________________________\n",
      "flatten_4 (Flatten)          (None, 576)               0         \n",
      "_________________________________________________________________\n",
      "dense_8 (Dense)              (None, 128)               73856     \n",
      "_________________________________________________________________\n",
      "dense_9 (Dense)              (None, 340)               43860     \n",
      "=================================================================\n",
      "Total params: 141,012\n",
      "Trainable params: 141,012\n",
      "Non-trainable params: 0\n",
      "_________________________________________________________________\n",
      "None\n"
     ]
    }
   ],
   "source": [
    "model_1 = tf.keras.models.load_model('model.hdf5', custom_objects = {'top_3_accuracy':top_3_accuracy})\n",
    "\n",
    "model_1.compile(loss='categorical_crossentropy',\n",
    "              optimizer=Adam(learning_rate=0.002),\n",
    "             metrics=['accuracy', categorical_accuracy, categorical_crossentropy, top_3_accuracy])\n",
    "print(model_1.summary())"
   ]
  },
  {
   "cell_type": "code",
   "execution_count": 81,
   "metadata": {
    "colab": {
     "base_uri": "https://localhost:8080/",
     "height": 428
    },
    "colab_type": "code",
    "id": "htRDNtH5Jm7p",
    "outputId": "87d49a44-d5c4-4fa2-88eb-0d175c480623"
   },
   "outputs": [
    {
     "name": "stdout",
     "output_type": "stream",
     "text": [
      "Train on 816000 samples, validate on 816000 samples\n",
      "Epoch 1/10\n",
      "816000/816000 [==============================] - 374s 458us/sample - loss: 1.9681 - acc: 0.5352 - categorical_accuracy: 0.5352 - categorical_crossentropy: 1.9681 - top_3_accuracy: 0.7334 - val_loss: 1.9708 - val_acc: 0.5333 - val_categorical_accuracy: 0.5333 - val_categorical_crossentropy: 1.9708 - val_top_3_accuracy: 0.7317\n",
      "Epoch 2/10\n",
      "816000/816000 [==============================] - 364s 447us/sample - loss: 1.9702 - acc: 0.5350 - categorical_accuracy: 0.5350 - categorical_crossentropy: 1.9702 - top_3_accuracy: 0.7330 - val_loss: 1.9570 - val_acc: 0.5381 - val_categorical_accuracy: 0.5381 - val_categorical_crossentropy: 1.9569 - val_top_3_accuracy: 0.7355\n",
      "Epoch 3/10\n",
      "816000/816000 [==============================] - 363s 445us/sample - loss: 1.9726 - acc: 0.5346 - categorical_accuracy: 0.5346 - categorical_crossentropy: 1.9726 - top_3_accuracy: 0.7326 - val_loss: 1.9767 - val_acc: 0.5349 - val_categorical_accuracy: 0.5349 - val_categorical_crossentropy: 1.9767 - val_top_3_accuracy: 0.7331\n",
      "Epoch 4/10\n",
      "816000/816000 [==============================] - 344s 422us/sample - loss: 1.9762 - acc: 0.5337 - categorical_accuracy: 0.5337 - categorical_crossentropy: 1.9763 - top_3_accuracy: 0.7322 - val_loss: 1.9291 - val_acc: 0.5412 - val_categorical_accuracy: 0.5412 - val_categorical_crossentropy: 1.9291 - val_top_3_accuracy: 0.7398\n",
      "Epoch 5/10\n",
      "816000/816000 [==============================] - 351s 431us/sample - loss: 1.9751 - acc: 0.5337 - categorical_accuracy: 0.5337 - categorical_crossentropy: 1.9751 - top_3_accuracy: 0.7321 - val_loss: 1.9301 - val_acc: 0.5426 - val_categorical_accuracy: 0.5426 - val_categorical_crossentropy: 1.9301 - val_top_3_accuracy: 0.7406\n",
      "Epoch 6/10\n",
      "816000/816000 [==============================] - 363s 445us/sample - loss: 1.9739 - acc: 0.5346 - categorical_accuracy: 0.5346 - categorical_crossentropy: 1.9739 - top_3_accuracy: 0.7323 - val_loss: 1.9355 - val_acc: 0.5418 - val_categorical_accuracy: 0.5418 - val_categorical_crossentropy: 1.9355 - val_top_3_accuracy: 0.7382\n",
      "Epoch 7/10\n",
      "815872/816000 [============================>.] - ETA: 0s - loss: 1.9742 - acc: 0.5344 - categorical_accuracy: 0.5344 - categorical_crossentropy: 1.9742 - top_3_accuracy: 0.7322\n",
      "Epoch 00007: ReduceLROnPlateau reducing learning rate to 0.001500000071246177.\n",
      "816000/816000 [==============================] - 361s 442us/sample - loss: 1.9741 - acc: 0.5344 - categorical_accuracy: 0.5344 - categorical_crossentropy: 1.9742 - top_3_accuracy: 0.7322 - val_loss: 1.9204 - val_acc: 0.5446 - val_categorical_accuracy: 0.5446 - val_categorical_crossentropy: 1.9204 - val_top_3_accuracy: 0.7406\n",
      "Epoch 8/10\n",
      "816000/816000 [==============================] - 381s 467us/sample - loss: 1.9059 - acc: 0.5491 - categorical_accuracy: 0.5491 - categorical_crossentropy: 1.9059 - top_3_accuracy: 0.7451 - val_loss: 1.8572 - val_acc: 0.5580 - val_categorical_accuracy: 0.5580 - val_categorical_crossentropy: 1.8572 - val_top_3_accuracy: 0.7519\n",
      "Epoch 9/10\n",
      "816000/816000 [==============================] - 368s 451us/sample - loss: 1.8976 - acc: 0.5508 - categorical_accuracy: 0.5508 - categorical_crossentropy: 1.8976 - top_3_accuracy: 0.7462 - val_loss: 1.8255 - val_acc: 0.5659 - val_categorical_accuracy: 0.5659 - val_categorical_crossentropy: 1.8255 - val_top_3_accuracy: 0.7588\n",
      "Epoch 10/10\n",
      "301952/816000 [==========>...................] - ETA: 2:41 - loss: 1.8805 - acc: 0.5539 - categorical_accuracy: 0.5539 - categorical_crossentropy: 1.8805 - top_3_accuracy: 0.7489Buffered data was truncated after reaching the output size limit."
     ]
    }
   ],
   "source": [
    "history_1 = model_1.fit(\n",
    "    x_train, y_train, epochs=10, verbose=1,\n",
    "    validation_data=(x_test, y_test),\n",
    "    callbacks = callbacks\n",
    ")"
   ]
  },
  {
   "cell_type": "code",
   "execution_count": 0,
   "metadata": {
    "colab": {},
    "colab_type": "code",
    "id": "2C01VVUpYzas"
   },
   "outputs": [],
   "source": [
    "model_1.save('model.hdf5')"
   ]
  },
  {
   "cell_type": "code",
   "execution_count": 0,
   "metadata": {
    "colab": {
     "base_uri": "https://localhost:8080/",
     "height": 326
    },
    "colab_type": "code",
    "id": "AozOBRU9dIU-",
    "outputId": "c1acdfdc-d24e-42e9-e5a8-87ecff2fa28c"
   },
   "outputs": [
    {
     "name": "stdout",
     "output_type": "stream",
     "text": [
      "Train on 734400 samples, validate on 81600 samples\n",
      "Epoch 1/10\n",
      "734400/734400 [==============================] - 220s 300us/sample - loss: 1.7803 - acc: 0.5761 - categorical_accuracy: 0.5761 - categorical_crossentropy: 1.7803 - top_3_accuracy: 0.7679 - val_loss: 1.8723 - val_acc: 0.5577 - val_categorical_accuracy: 0.5577 - val_categorical_crossentropy: 1.8723 - val_top_3_accuracy: 0.7522\n",
      "Epoch 2/10\n",
      "734400/734400 [==============================] - 209s 285us/sample - loss: 1.7835 - acc: 0.5755 - categorical_accuracy: 0.5755 - categorical_crossentropy: 1.7835 - top_3_accuracy: 0.7672 - val_loss: 1.8780 - val_acc: 0.5585 - val_categorical_accuracy: 0.5585 - val_categorical_crossentropy: 1.8780 - val_top_3_accuracy: 0.7498\n",
      "Epoch 3/10\n",
      "734400/734400 [==============================] - 188s 256us/sample - loss: 1.7842 - acc: 0.5748 - categorical_accuracy: 0.5748 - categorical_crossentropy: 1.7842 - top_3_accuracy: 0.7666 - val_loss: 1.8332 - val_acc: 0.5700 - val_categorical_accuracy: 0.5700 - val_categorical_crossentropy: 1.8332 - val_top_3_accuracy: 0.7590\n",
      "Epoch 4/10\n",
      "734400/734400 [==============================] - 224s 305us/sample - loss: 1.7848 - acc: 0.5748 - categorical_accuracy: 0.5748 - categorical_crossentropy: 1.7848 - top_3_accuracy: 0.7667 - val_loss: 1.8387 - val_acc: 0.5659 - val_categorical_accuracy: 0.5659 - val_categorical_crossentropy: 1.8387 - val_top_3_accuracy: 0.7582\n",
      "Epoch 5/10\n",
      "734400/734400 [==============================] - 212s 288us/sample - loss: 1.7839 - acc: 0.5750 - categorical_accuracy: 0.5750 - categorical_crossentropy: 1.7839 - top_3_accuracy: 0.7665 - val_loss: 1.8286 - val_acc: 0.5676 - val_categorical_accuracy: 0.5676 - val_categorical_crossentropy: 1.8286 - val_top_3_accuracy: 0.7609\n",
      "Epoch 6/10\n",
      "734400/734400 [==============================] - 219s 298us/sample - loss: 1.7841 - acc: 0.5750 - categorical_accuracy: 0.5750 - categorical_crossentropy: 1.7841 - top_3_accuracy: 0.7667 - val_loss: 1.8464 - val_acc: 0.5663 - val_categorical_accuracy: 0.5663 - val_categorical_crossentropy: 1.8464 - val_top_3_accuracy: 0.7562\n",
      "Epoch 7/10\n",
      "734400/734400 [==============================] - 209s 285us/sample - loss: 1.7849 - acc: 0.5743 - categorical_accuracy: 0.5743 - categorical_crossentropy: 1.7849 - top_3_accuracy: 0.7662 - val_loss: 1.8662 - val_acc: 0.5602 - val_categorical_accuracy: 0.5602 - val_categorical_crossentropy: 1.8662 - val_top_3_accuracy: 0.7535\n",
      "Epoch 8/10\n",
      "212700/734400 [=======>......................] - ETA: 2:28 - loss: 1.7638 - acc: 0.5772 - categorical_accuracy: 0.5772 - categorical_crossentropy: 1.7638 - top_3_accuracy: 0.7705"
     ]
    }
   ],
   "source": [
    "history_8 = model_2.fit(\n",
    "    x_train, y_train, epochs=10, verbose=1,\n",
    "    # validation_data=(x_test, y_test),\n",
    "    batch_size = 100,\n",
    "    validation_split=0.1,\n",
    "#     callbacks = [\n",
    "#     ModelCheckpoint('model.h5', monitor='val_top_3_accuracy', mode='max', save_best_only=True)\n",
    "# ]\n",
    "    callbacks=callbacks\n",
    ")\n",
    "model_2.save('model.hdf5')\n",
    "log = pd.DataFrame.from_dict(history_8.history)\n",
    "log.to_csv('train_log_8.csv', index=False)\n"
   ]
  },
  {
   "cell_type": "markdown",
   "metadata": {
    "colab_type": "text",
    "id": "RKHhLDwQfg_4"
   },
   "source": [
    "# METRICS\n",
    "\n",
    "I combined the logs from all runs to see the learning trend of my model."
   ]
  },
  {
   "cell_type": "code",
   "execution_count": 0,
   "metadata": {
    "colab": {},
    "colab_type": "code",
    "id": "D7gVde4AZBKX"
   },
   "outputs": [],
   "source": [
    "log = pd.DataFrame.from_dict(history_1.history)\n",
    "log.to_csv('train_log_1.csv', index=False)"
   ]
  },
  {
   "cell_type": "code",
   "execution_count": 0,
   "metadata": {
    "colab": {},
    "colab_type": "code",
    "id": "ddHVFTosZnpY"
   },
   "outputs": [],
   "source": [
    "log_df_1 = pd.read_csv('train_log.csv')\n",
    "log_df_2 = pd.read_csv('train_log_1.csv')\n",
    "log_df_3 = pd.read_csv('train_log_2.csv')\n",
    "log_df_4 = pd.read_csv('train_log_3.csv')\n",
    "log_df_5 = pd.read_csv('train_log_4.csv')\n",
    "log_df_6 = pd.read_csv('train_log_5.csv')\n",
    "log_df_7 = pd.read_csv('train_log_6.csv')\n",
    "log_df_8 = pd.read_csv('train_log_7.csv')\n",
    "\n",
    "frames = [log_df_1, log_df_2, log_df_3, log_df_4, log_df_5, log_df_6, log_df_7, log_df_8]\n",
    "log_df = pd.concat(frames, sort=False, ignore_index=True)"
   ]
  },
  {
   "cell_type": "code",
   "execution_count": 10,
   "metadata": {
    "colab": {
     "base_uri": "https://localhost:8080/",
     "height": 439
    },
    "colab_type": "code",
    "id": "aXLL8hf3Zzu9",
    "outputId": "325f1ca7-92ff-48a5-9091-8a4e64fa9176"
   },
   "outputs": [
    {
     "data": {
      "text/html": [
       "<div>\n",
       "<style scoped>\n",
       "    .dataframe tbody tr th:only-of-type {\n",
       "        vertical-align: middle;\n",
       "    }\n",
       "\n",
       "    .dataframe tbody tr th {\n",
       "        vertical-align: top;\n",
       "    }\n",
       "\n",
       "    .dataframe thead th {\n",
       "        text-align: right;\n",
       "    }\n",
       "</style>\n",
       "<table border=\"1\" class=\"dataframe\">\n",
       "  <thead>\n",
       "    <tr style=\"text-align: right;\">\n",
       "      <th></th>\n",
       "      <th>loss</th>\n",
       "      <th>acc</th>\n",
       "      <th>categorical_accuracy</th>\n",
       "      <th>categorical_crossentropy</th>\n",
       "      <th>top_3_accuracy</th>\n",
       "      <th>val_loss</th>\n",
       "      <th>val_acc</th>\n",
       "      <th>val_categorical_accuracy</th>\n",
       "      <th>val_categorical_crossentropy</th>\n",
       "      <th>val_top_3_accuracy</th>\n",
       "      <th>lr</th>\n",
       "    </tr>\n",
       "  </thead>\n",
       "  <tbody>\n",
       "    <tr>\n",
       "      <th>0</th>\n",
       "      <td>2.514044</td>\n",
       "      <td>0.430043</td>\n",
       "      <td>0.430043</td>\n",
       "      <td>2.514047</td>\n",
       "      <td>0.629048</td>\n",
       "      <td>2.187445</td>\n",
       "      <td>0.487913</td>\n",
       "      <td>0.487913</td>\n",
       "      <td>2.187447</td>\n",
       "      <td>0.692051</td>\n",
       "      <td>0.0020</td>\n",
       "    </tr>\n",
       "    <tr>\n",
       "      <th>1</th>\n",
       "      <td>2.113503</td>\n",
       "      <td>0.506137</td>\n",
       "      <td>0.506137</td>\n",
       "      <td>2.113498</td>\n",
       "      <td>0.707613</td>\n",
       "      <td>2.037287</td>\n",
       "      <td>0.520614</td>\n",
       "      <td>0.520614</td>\n",
       "      <td>2.037297</td>\n",
       "      <td>0.720061</td>\n",
       "      <td>0.0020</td>\n",
       "    </tr>\n",
       "    <tr>\n",
       "      <th>2</th>\n",
       "      <td>2.052235</td>\n",
       "      <td>0.518362</td>\n",
       "      <td>0.518362</td>\n",
       "      <td>2.052233</td>\n",
       "      <td>0.718534</td>\n",
       "      <td>1.983271</td>\n",
       "      <td>0.531854</td>\n",
       "      <td>0.531854</td>\n",
       "      <td>1.983264</td>\n",
       "      <td>0.731078</td>\n",
       "      <td>0.0020</td>\n",
       "    </tr>\n",
       "    <tr>\n",
       "      <th>3</th>\n",
       "      <td>2.022978</td>\n",
       "      <td>0.524697</td>\n",
       "      <td>0.524697</td>\n",
       "      <td>2.022974</td>\n",
       "      <td>0.723907</td>\n",
       "      <td>2.005809</td>\n",
       "      <td>0.525933</td>\n",
       "      <td>0.525933</td>\n",
       "      <td>2.005810</td>\n",
       "      <td>0.726415</td>\n",
       "      <td>0.0020</td>\n",
       "    </tr>\n",
       "    <tr>\n",
       "      <th>4</th>\n",
       "      <td>2.008461</td>\n",
       "      <td>0.527447</td>\n",
       "      <td>0.527447</td>\n",
       "      <td>2.008465</td>\n",
       "      <td>0.726463</td>\n",
       "      <td>1.965443</td>\n",
       "      <td>0.536687</td>\n",
       "      <td>0.536687</td>\n",
       "      <td>1.965438</td>\n",
       "      <td>0.733146</td>\n",
       "      <td>0.0020</td>\n",
       "    </tr>\n",
       "    <tr>\n",
       "      <th>...</th>\n",
       "      <td>...</td>\n",
       "      <td>...</td>\n",
       "      <td>...</td>\n",
       "      <td>...</td>\n",
       "      <td>...</td>\n",
       "      <td>...</td>\n",
       "      <td>...</td>\n",
       "      <td>...</td>\n",
       "      <td>...</td>\n",
       "      <td>...</td>\n",
       "      <td>...</td>\n",
       "    </tr>\n",
       "    <tr>\n",
       "      <th>75</th>\n",
       "      <td>1.746630</td>\n",
       "      <td>0.583419</td>\n",
       "      <td>0.583419</td>\n",
       "      <td>1.746630</td>\n",
       "      <td>0.773980</td>\n",
       "      <td>1.799708</td>\n",
       "      <td>0.576078</td>\n",
       "      <td>0.576078</td>\n",
       "      <td>1.799707</td>\n",
       "      <td>0.765257</td>\n",
       "      <td>0.0015</td>\n",
       "    </tr>\n",
       "    <tr>\n",
       "      <th>76</th>\n",
       "      <td>1.741943</td>\n",
       "      <td>0.584382</td>\n",
       "      <td>0.584382</td>\n",
       "      <td>1.741944</td>\n",
       "      <td>0.773901</td>\n",
       "      <td>1.816252</td>\n",
       "      <td>0.573713</td>\n",
       "      <td>0.573713</td>\n",
       "      <td>1.816252</td>\n",
       "      <td>0.762904</td>\n",
       "      <td>0.0015</td>\n",
       "    </tr>\n",
       "    <tr>\n",
       "      <th>77</th>\n",
       "      <td>1.740446</td>\n",
       "      <td>0.584515</td>\n",
       "      <td>0.584515</td>\n",
       "      <td>1.740448</td>\n",
       "      <td>0.774481</td>\n",
       "      <td>1.793589</td>\n",
       "      <td>0.577181</td>\n",
       "      <td>0.577181</td>\n",
       "      <td>1.793588</td>\n",
       "      <td>0.766667</td>\n",
       "      <td>0.0015</td>\n",
       "    </tr>\n",
       "    <tr>\n",
       "      <th>78</th>\n",
       "      <td>1.739059</td>\n",
       "      <td>0.585357</td>\n",
       "      <td>0.585357</td>\n",
       "      <td>1.739058</td>\n",
       "      <td>0.775008</td>\n",
       "      <td>1.812403</td>\n",
       "      <td>0.572243</td>\n",
       "      <td>0.572243</td>\n",
       "      <td>1.812404</td>\n",
       "      <td>0.763088</td>\n",
       "      <td>0.0015</td>\n",
       "    </tr>\n",
       "    <tr>\n",
       "      <th>79</th>\n",
       "      <td>1.738746</td>\n",
       "      <td>0.585069</td>\n",
       "      <td>0.585069</td>\n",
       "      <td>1.738746</td>\n",
       "      <td>0.774470</td>\n",
       "      <td>1.808809</td>\n",
       "      <td>0.574167</td>\n",
       "      <td>0.574167</td>\n",
       "      <td>1.808809</td>\n",
       "      <td>0.765184</td>\n",
       "      <td>0.0015</td>\n",
       "    </tr>\n",
       "  </tbody>\n",
       "</table>\n",
       "<p>80 rows × 11 columns</p>\n",
       "</div>"
      ],
      "text/plain": [
       "        loss       acc  ...  val_top_3_accuracy      lr\n",
       "0   2.514044  0.430043  ...            0.692051  0.0020\n",
       "1   2.113503  0.506137  ...            0.720061  0.0020\n",
       "2   2.052235  0.518362  ...            0.731078  0.0020\n",
       "3   2.022978  0.524697  ...            0.726415  0.0020\n",
       "4   2.008461  0.527447  ...            0.733146  0.0020\n",
       "..       ...       ...  ...                 ...     ...\n",
       "75  1.746630  0.583419  ...            0.765257  0.0015\n",
       "76  1.741943  0.584382  ...            0.762904  0.0015\n",
       "77  1.740446  0.584515  ...            0.766667  0.0015\n",
       "78  1.739059  0.585357  ...            0.763088  0.0015\n",
       "79  1.738746  0.585069  ...            0.765184  0.0015\n",
       "\n",
       "[80 rows x 11 columns]"
      ]
     },
     "execution_count": 10,
     "metadata": {
      "tags": []
     },
     "output_type": "execute_result"
    }
   ],
   "source": [
    "log_df"
   ]
  },
  {
   "cell_type": "code",
   "execution_count": 11,
   "metadata": {
    "colab": {
     "base_uri": "https://localhost:8080/",
     "height": 459
    },
    "colab_type": "code",
    "id": "D5Yhq9SSaOO8",
    "outputId": "a4eb39a1-315f-4da0-99d0-bed64a8bbbbb"
   },
   "outputs": [
    {
     "data": {
      "text/plain": [
       "Text(0.5, 0, 'Epochs')"
      ]
     },
     "execution_count": 11,
     "metadata": {
      "tags": []
     },
     "output_type": "execute_result"
    },
    {
     "data": {
      "image/png": "[encoded data removed]",
      "text/plain": [
       "<Figure size 504x504 with 1 Axes>"
      ]
     },
     "metadata": {
      "tags": []
     },
     "output_type": "display_data"
    }
   ],
   "source": [
    "p = log_df[['loss','val_loss']].plot(figsize = (7,7))\n",
    "p.set_xlabel('Epochs')"
   ]
  },
  {
   "cell_type": "code",
   "execution_count": 12,
   "metadata": {
    "colab": {
     "base_uri": "https://localhost:8080/",
     "height": 459
    },
    "colab_type": "code",
    "id": "RloWK0Q2PRYy",
    "outputId": "59943038-d513-4deb-9588-b50266119e1d"
   },
   "outputs": [
    {
     "data": {
      "text/plain": [
       "Text(0.5, 0, 'Epochs')"
      ]
     },
     "execution_count": 12,
     "metadata": {
      "tags": []
     },
     "output_type": "execute_result"
    },
    {
     "data": {
      "image/png": "[encoded data removed]",
      "text/plain": [
       "<Figure size 504x504 with 1 Axes>"
      ]
     },
     "metadata": {
      "tags": []
     },
     "output_type": "display_data"
    }
   ],
   "source": [
    "p = log_df[['top_3_accuracy','val_top_3_accuracy']].plot(figsize = (7,7))\n",
    "p.set_xlabel('Epochs')"
   ]
  },
  {
   "cell_type": "code",
   "execution_count": 0,
   "metadata": {
    "colab": {},
    "colab_type": "code",
    "id": "WzaNsxg4ucnQ"
   },
   "outputs": [],
   "source": [
    "score = model.evaluate(x_test, y_test, verbose=0)"
   ]
  },
  {
   "cell_type": "markdown",
   "metadata": {
    "colab_type": "text",
    "id": "df969PEaf1iy"
   },
   "source": [
    "# RESOURCES\n",
    "\n",
    "1. https://github.com/googlecreativelab/quickdraw-dataset#preprocessed-dataset\n",
    "2. https://www.kaggle.com/c/quickdraw-doodle-recognition\n",
    "3. https://www.kaggle.com/echomil/mobilenet-126x126x3-100k-per-class\n",
    "4. https://www.kaggle.com/gaborfodor/greyscale-mobilenet-lb-0-892\n",
    "5. https://colab.research.google.com/github/zaidalyafeai/zaidalyafeai.github.io/blob/master/sketcher/Sketcher.ipynb#scrollTo=7OMEJ7kF3lsP"
   ]
  },
  {
   "cell_type": "code",
   "execution_count": null,
   "metadata": {},
   "outputs": [],
   "source": []
  }
 ],
 "metadata": {
  "accelerator": "GPU",
  "colab": {
   "collapsed_sections": [],
   "machine_shape": "hm",
   "name": "Quick draw recognition with CNN",
   "provenance": []
  },
  "kernelspec": {
   "display_name": "Python 3",
   "language": "python",
   "name": "python3"
  }
 },
 "nbformat": 4,
 "nbformat_minor": 1
}
